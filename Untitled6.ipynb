{
  "nbformat": 4,
  "nbformat_minor": 0,
  "metadata": {
    "colab": {
      "name": "Untitled6.ipynb",
      "provenance": [],
      "collapsed_sections": []
    },
    "kernelspec": {
      "name": "python3",
      "display_name": "Python 3"
    }
  },
  "cells": [
    {
      "cell_type": "code",
      "metadata": {
        "id": "KZrV-BBhXG-r",
        "colab_type": "code",
        "outputId": "d9b69bde-7fa8-4a1c-b110-50525681dade",
        "colab": {
          "base_uri": "https://localhost:8080/",
          "height": 68
        }
      },
      "source": [
        "# Program to display the Fibonacci sequence up to n-th term\n",
        "nterms = int(input(\"how many terms?\"))\n",
        "\n",
        "# first two terms\n",
        "n1, n2 = 0,1\n",
        "count = 0\n",
        "\n",
        "# check if the number of terms is valid\n",
        "if nterms <= 0:\n",
        "  print(\"please enter a positive integer\")\n",
        "elif nterms == 1:\n",
        "  print(\"Fibonacci sequence upto\",nterms,\":\")\n",
        "  print(n1)\n",
        "else:\n",
        "  print (\"Fibonacci sequence:\")\n",
        "  while count < nterms:\n",
        "    print(n1)\n",
        "    nth = n1 + n2\n",
        "    # update values\n",
        "    n1 = n2\n",
        "    n2 = nth\n",
        "    count += 1"
      ],
      "execution_count": 0,
      "outputs": [
        {
          "output_type": "stream",
          "text": [
            "how many terms?1\n",
            "Fibonacci sequence upto 1 :\n",
            "0\n"
          ],
          "name": "stdout"
        }
      ]
    },
    {
      "cell_type": "markdown",
      "metadata": {
        "id": "xZeRefYIpUVh",
        "colab_type": "text"
      },
      "source": [
        ""
      ]
    },
    {
      "cell_type": "code",
      "metadata": {
        "id": "EyyfvnsUeBgi",
        "colab_type": "code",
        "outputId": "a231f422-13b6-4692-958b-b9ce2762ab37",
        "colab": {
          "base_uri": "https://localhost:8080/",
          "height": 134
        }
      },
      "source": [
        "# Program to check for lucky number \n",
        "Returns 1 if n is a lucky number otherwise returns 0 \n",
        "  def is Lucky(n): \n",
        "    # Function attribute will act as static variable \n",
        "      \n",
        "    # just for readability, can be removed and used n instead \n",
        "    next_position = n \n",
        "      \n",
        "    if is Lucky.counter > n: \n",
        "        return 1\n",
        "    if n % is Lucky.counter == 0: \n",
        "        return 0\n",
        "      \n",
        "    # Calculate next position of input number \n",
        "    next_position = next_position - next_position / is Lucky.counter \n",
        "      \n",
        "    is Lucky.counter = is Lucky.counter + 1\n",
        "      \n",
        "    return is Lucky(next_position) \n",
        "      \n",
        "      \n",
        "# Driver Code \n",
        "  \n",
        "is Lucky.counter = 2 # Acts as static variable \n",
        "n = 5\n",
        "  if is Lucky(n): \n",
        "    print(n),\"is a Lucky number\"\n",
        "  else: \n",
        "    print(n),\"is not a Lucky number\""
      ],
      "execution_count": 0,
      "outputs": [
        {
          "output_type": "error",
          "ename": "SyntaxError",
          "evalue": "ignored",
          "traceback": [
            "\u001b[0;36m  File \u001b[0;32m\"<ipython-input-2-9dc4de763b04>\"\u001b[0;36m, line \u001b[0;32m1\u001b[0m\n\u001b[0;31m    Returns 1 if n is a lucky number otherwise returns 0\u001b[0m\n\u001b[0m            ^\u001b[0m\n\u001b[0;31mSyntaxError\u001b[0m\u001b[0;31m:\u001b[0m invalid syntax\n"
          ]
        }
      ]
    },
    {
      "cell_type": "markdown",
      "metadata": {
        "id": "djsQVZsnpOup",
        "colab_type": "text"
      },
      "source": [
        "\n",
        "\n",
        "---\n",
        "\n"
      ]
    }
  ]
}